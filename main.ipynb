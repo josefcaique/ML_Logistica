{
 "cells": [
  {
   "cell_type": "markdown",
   "id": "93932bf4",
   "metadata": {
    "vscode": {
     "languageId": "plaintext"
    }
   },
   "source": [
    "# Building Model"
   ]
  },
  {
   "cell_type": "markdown",
   "id": "53bb279c",
   "metadata": {
    "vscode": {
     "languageId": "plaintext"
    }
   },
   "source": [
    "## Imports"
   ]
  },
  {
   "cell_type": "code",
   "execution_count": 1,
   "id": "98f7d264",
   "metadata": {},
   "outputs": [],
   "source": [
    "import joblib\n",
    "import pandas as pd\n",
    "from sklearn.preprocessing import LabelEncoder\n",
    "from sklearn.model_selection import train_test_split\n",
    "from sklearn.tree import DecisionTreeClassifier\n",
    "from sklearn.metrics import accuracy_score\n",
    "from sklearn.metrics import classification_report"
   ]
  },
  {
   "cell_type": "markdown",
   "id": "3a4800f1",
   "metadata": {},
   "source": [
    "## Loading data"
   ]
  },
  {
   "cell_type": "code",
   "execution_count": 2,
   "id": "cfe3d79e",
   "metadata": {},
   "outputs": [],
   "source": [
    "data = {\n",
    "    'Peso_Embalagem_Gr': [212, 215, 890, 700, 230, 240, 730, 780, 218, 750, 202, 680],\n",
    "    'Tipo_Embalagem': ['Caixa de Papelão', 'Caixa de Papelão', 'Plástico Bolha', 'Plástico Bolha', 'Caixa de Papelão', 'Caixa de Papelão', 'Plástico Bolha', 'Plástico Bolha', 'Caixa de Papelão', 'Plástico Bolha', 'Caixa de Papelão', 'Plástico Bolha'],\n",
    "    'Tipo_Produto': ['Smartphone', 'Tablet', 'Tablet', 'Tablet', 'Smartphone', 'Smartphone', 'Tablet', 'Smartphone', 'Smartphone', 'Tablet', 'Smartphone', 'Tablet']  # Alterei o segundo e o oitavo rótulo\n",
    "}"
   ]
  }
 ],
 "metadata": {
  "kernelspec": {
   "display_name": "base",
   "language": "python",
   "name": "python3"
  },
  "language_info": {
   "codemirror_mode": {
    "name": "ipython",
    "version": 3
   },
   "file_extension": ".py",
   "mimetype": "text/x-python",
   "name": "python",
   "nbconvert_exporter": "python",
   "pygments_lexer": "ipython3",
   "version": "3.9.13"
  }
 },
 "nbformat": 4,
 "nbformat_minor": 5
}
