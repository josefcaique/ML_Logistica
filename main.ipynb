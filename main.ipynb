{
 "cells": [
  {
   "cell_type": "markdown",
   "id": "93932bf4",
   "metadata": {
    "vscode": {
     "languageId": "plaintext"
    }
   },
   "source": [
    "# Building Model"
   ]
  },
  {
   "cell_type": "markdown",
   "id": "53bb279c",
   "metadata": {
    "vscode": {
     "languageId": "plaintext"
    }
   },
   "source": [
    "## Imports"
   ]
  },
  {
   "cell_type": "code",
   "execution_count": 96,
   "id": "98f7d264",
   "metadata": {},
   "outputs": [],
   "source": [
    "import joblib\n",
    "import pandas as pd\n",
    "from sklearn.preprocessing import LabelEncoder\n",
    "from sklearn.model_selection import train_test_split\n",
    "from sklearn.tree import DecisionTreeClassifier\n",
    "from sklearn.metrics import accuracy_score\n",
    "from sklearn.metrics import classification_report"
   ]
  },
  {
   "cell_type": "markdown",
   "id": "3a4800f1",
   "metadata": {},
   "source": [
    "## Loading data"
   ]
  },
  {
   "cell_type": "code",
   "execution_count": 97,
   "id": "cfe3d79e",
   "metadata": {},
   "outputs": [],
   "source": [
    "data = {\n",
    "    'Peso_Embalagem_Gr': [212, 215, 890, 700, 230, 240, 730, 780, 218, 750, 202, 680],\n",
    "    'Tipo_Embalagem': ['Caixa de Papelão', 'Caixa de Papelão', 'Plástico Bolha', 'Plástico Bolha', 'Caixa de Papelão', 'Caixa de Papelão', 'Plástico Bolha', 'Plástico Bolha', 'Caixa de Papelão', 'Plástico Bolha', 'Caixa de Papelão', 'Plástico Bolha'],\n",
    "    'Tipo_Produto': ['Smartphone', 'Tablet', 'Tablet', 'Tablet', 'Smartphone', 'Smartphone', 'Tablet', 'Smartphone', 'Smartphone', 'Tablet', 'Smartphone', 'Tablet']  # Alterei o segundo e o oitavo rótulo\n",
    "}"
   ]
  },
  {
   "cell_type": "code",
   "execution_count": 98,
   "id": "3bc5ed15",
   "metadata": {},
   "outputs": [
    {
     "data": {
      "text/html": [
       "<div>\n",
       "<style scoped>\n",
       "    .dataframe tbody tr th:only-of-type {\n",
       "        vertical-align: middle;\n",
       "    }\n",
       "\n",
       "    .dataframe tbody tr th {\n",
       "        vertical-align: top;\n",
       "    }\n",
       "\n",
       "    .dataframe thead th {\n",
       "        text-align: right;\n",
       "    }\n",
       "</style>\n",
       "<table border=\"1\" class=\"dataframe\">\n",
       "  <thead>\n",
       "    <tr style=\"text-align: right;\">\n",
       "      <th></th>\n",
       "      <th>Peso_Embalagem_Gr</th>\n",
       "      <th>Tipo_Embalagem</th>\n",
       "      <th>Tipo_Produto</th>\n",
       "    </tr>\n",
       "  </thead>\n",
       "  <tbody>\n",
       "    <tr>\n",
       "      <th>0</th>\n",
       "      <td>212</td>\n",
       "      <td>Caixa de Papelão</td>\n",
       "      <td>Smartphone</td>\n",
       "    </tr>\n",
       "    <tr>\n",
       "      <th>1</th>\n",
       "      <td>215</td>\n",
       "      <td>Caixa de Papelão</td>\n",
       "      <td>Tablet</td>\n",
       "    </tr>\n",
       "    <tr>\n",
       "      <th>2</th>\n",
       "      <td>890</td>\n",
       "      <td>Plástico Bolha</td>\n",
       "      <td>Tablet</td>\n",
       "    </tr>\n",
       "    <tr>\n",
       "      <th>3</th>\n",
       "      <td>700</td>\n",
       "      <td>Plástico Bolha</td>\n",
       "      <td>Tablet</td>\n",
       "    </tr>\n",
       "    <tr>\n",
       "      <th>4</th>\n",
       "      <td>230</td>\n",
       "      <td>Caixa de Papelão</td>\n",
       "      <td>Smartphone</td>\n",
       "    </tr>\n",
       "    <tr>\n",
       "      <th>5</th>\n",
       "      <td>240</td>\n",
       "      <td>Caixa de Papelão</td>\n",
       "      <td>Smartphone</td>\n",
       "    </tr>\n",
       "    <tr>\n",
       "      <th>6</th>\n",
       "      <td>730</td>\n",
       "      <td>Plástico Bolha</td>\n",
       "      <td>Tablet</td>\n",
       "    </tr>\n",
       "    <tr>\n",
       "      <th>7</th>\n",
       "      <td>780</td>\n",
       "      <td>Plástico Bolha</td>\n",
       "      <td>Smartphone</td>\n",
       "    </tr>\n",
       "    <tr>\n",
       "      <th>8</th>\n",
       "      <td>218</td>\n",
       "      <td>Caixa de Papelão</td>\n",
       "      <td>Smartphone</td>\n",
       "    </tr>\n",
       "    <tr>\n",
       "      <th>9</th>\n",
       "      <td>750</td>\n",
       "      <td>Plástico Bolha</td>\n",
       "      <td>Tablet</td>\n",
       "    </tr>\n",
       "    <tr>\n",
       "      <th>10</th>\n",
       "      <td>202</td>\n",
       "      <td>Caixa de Papelão</td>\n",
       "      <td>Smartphone</td>\n",
       "    </tr>\n",
       "    <tr>\n",
       "      <th>11</th>\n",
       "      <td>680</td>\n",
       "      <td>Plástico Bolha</td>\n",
       "      <td>Tablet</td>\n",
       "    </tr>\n",
       "  </tbody>\n",
       "</table>\n",
       "</div>"
      ],
      "text/plain": [
       "    Peso_Embalagem_Gr    Tipo_Embalagem Tipo_Produto\n",
       "0                 212  Caixa de Papelão   Smartphone\n",
       "1                 215  Caixa de Papelão       Tablet\n",
       "2                 890    Plástico Bolha       Tablet\n",
       "3                 700    Plástico Bolha       Tablet\n",
       "4                 230  Caixa de Papelão   Smartphone\n",
       "5                 240  Caixa de Papelão   Smartphone\n",
       "6                 730    Plástico Bolha       Tablet\n",
       "7                 780    Plástico Bolha   Smartphone\n",
       "8                 218  Caixa de Papelão   Smartphone\n",
       "9                 750    Plástico Bolha       Tablet\n",
       "10                202  Caixa de Papelão   Smartphone\n",
       "11                680    Plástico Bolha       Tablet"
      ]
     },
     "execution_count": 98,
     "metadata": {},
     "output_type": "execute_result"
    }
   ],
   "source": [
    "df = pd.DataFrame(data)\n",
    "df"
   ]
  },
  {
   "cell_type": "code",
   "execution_count": 99,
   "id": "62e68fb5",
   "metadata": {},
   "outputs": [],
   "source": [
    "x = df[['Peso_Embalagem_Gr', 'Tipo_Embalagem']]\n",
    "y = df['Tipo_Produto']"
   ]
  },
  {
   "cell_type": "code",
   "execution_count": 100,
   "id": "a283e8fe",
   "metadata": {},
   "outputs": [],
   "source": [
    "x_train, x_test, y_train, y_test = train_test_split(x, y, test_size=0.2, random_state= 1)"
   ]
  },
  {
   "cell_type": "code",
   "execution_count": 101,
   "id": "0cdda7cd",
   "metadata": {},
   "outputs": [
    {
     "data": {
      "text/plain": [
       "LabelEncoder()"
      ]
     },
     "execution_count": 101,
     "metadata": {},
     "output_type": "execute_result"
    }
   ],
   "source": [
    "read_packaging_type = LabelEncoder()\n",
    "read_packaging_type.fit(x_train['Tipo_Embalagem'])"
   ]
  },
  {
   "cell_type": "code",
   "execution_count": 102,
   "id": "99a04007",
   "metadata": {},
   "outputs": [
    {
     "data": {
      "text/plain": [
       "LabelEncoder()"
      ]
     },
     "execution_count": 102,
     "metadata": {},
     "output_type": "execute_result"
    }
   ],
   "source": [
    "read_product_type = LabelEncoder()\n",
    "read_product_type.fit(y_train)"
   ]
  },
  {
   "cell_type": "code",
   "execution_count": 103,
   "id": "8357a1b0",
   "metadata": {},
   "outputs": [],
   "source": [
    "x_train['Tipo_Embalagem'] = read_packaging_type.transform(x_train['Tipo_Embalagem'])\n",
    "x_test['Tipo_Embalagem'] = read_packaging_type.transform(x_test['Tipo_Embalagem'])"
   ]
  },
  {
   "cell_type": "code",
   "execution_count": 104,
   "id": "95303f44",
   "metadata": {},
   "outputs": [],
   "source": [
    "y_train = read_product_type.transform(y_train)\n",
    "y_test = read_product_type.transform(y_test)"
   ]
  },
  {
   "cell_type": "code",
   "execution_count": 105,
   "id": "6a149ed8",
   "metadata": {},
   "outputs": [],
   "source": [
    "model = DecisionTreeClassifier()"
   ]
  },
  {
   "cell_type": "code",
   "execution_count": 106,
   "id": "84df8c79",
   "metadata": {},
   "outputs": [
    {
     "data": {
      "text/plain": [
       "DecisionTreeClassifier()"
      ]
     },
     "execution_count": 106,
     "metadata": {},
     "output_type": "execute_result"
    }
   ],
   "source": [
    "model.fit(x_train, y_train)"
   ]
  },
  {
   "cell_type": "code",
   "execution_count": 83,
   "id": "73a9ea78",
   "metadata": {},
   "outputs": [
    {
     "data": {
      "text/plain": [
       "array([1, 1, 0])"
      ]
     },
     "execution_count": 83,
     "metadata": {},
     "output_type": "execute_result"
    }
   ],
   "source": [
    "x_test"
   ]
  },
  {
   "cell_type": "code",
   "execution_count": 107,
   "id": "bee02d42",
   "metadata": {},
   "outputs": [
    {
     "data": {
      "text/plain": [
       "array([0, 1, 0])"
      ]
     },
     "execution_count": 107,
     "metadata": {},
     "output_type": "execute_result"
    }
   ],
   "source": [
    "y_pred = model.predict(x_test)\n",
    "y_pred"
   ]
  }
 ],
 "metadata": {
  "kernelspec": {
   "display_name": "base",
   "language": "python",
   "name": "python3"
  },
  "language_info": {
   "codemirror_mode": {
    "name": "ipython",
    "version": 3
   },
   "file_extension": ".py",
   "mimetype": "text/x-python",
   "name": "python",
   "nbconvert_exporter": "python",
   "pygments_lexer": "ipython3",
   "version": "3.9.13"
  }
 },
 "nbformat": 4,
 "nbformat_minor": 5
}
